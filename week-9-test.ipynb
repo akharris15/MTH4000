{
 "cells": [
  {
   "cell_type": "markdown",
   "id": "d65bc9bd",
   "metadata": {},
   "source": [
    "# Week 9 test file for GitHub"
   ]
  },
  {
   "cell_type": "code",
   "execution_count": 1,
   "id": "c493fbdd",
   "metadata": {},
   "outputs": [],
   "source": [
    "def test_function(x):\n",
    "    if x==\"go\":\n",
    "        print(\"Let's go!\")"
   ]
  },
  {
   "cell_type": "code",
   "execution_count": null,
   "id": "a5683356",
   "metadata": {},
   "outputs": [],
   "source": []
  }
 ],
 "metadata": {
  "kernelspec": {
   "display_name": "Python 3 (ipykernel)",
   "language": "python",
   "name": "python3"
  },
  "language_info": {
   "codemirror_mode": {
    "name": "ipython",
    "version": 3
   },
   "file_extension": ".py",
   "mimetype": "text/x-python",
   "name": "python",
   "nbconvert_exporter": "python",
   "pygments_lexer": "ipython3",
   "version": "3.9.12"
  }
 },
 "nbformat": 4,
 "nbformat_minor": 5
}
